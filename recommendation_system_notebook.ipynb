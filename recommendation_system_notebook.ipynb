{
  "nbformat": 4,
  "nbformat_minor": 0,
  "metadata": {
    "colab": {
      "provenance": [],
      "gpuType": "T4"
    },
    "kernelspec": {
      "name": "python3",
      "display_name": "Python 3"
    },
    "language_info": {
      "name": "python"
    },
    "accelerator": "GPU"
  },
  "cells": [
    {
      "cell_type": "markdown",
      "source": [
        "# IBM Watson Studio Recommendation System\n",
        "\n",
        "## Project Overview\n",
        "This notebook implements a comprehensive recommendation system for the IBM Watson Studio platform.\n",
        "The system uses multiple recommendation approaches to enhance user experience by connecting users\n",
        "with relevant articles, datasets, notebooks, and other AI/ML assets.\n",
        "\n",
        "## Project Structure\n",
        "- **Part I**: Exploratory Data Analysis\n",
        "- **Part II**: Rank Based Recommendations  \n",
        "- **Part III**: User-User Based Collaborative Filtering\n",
        "- **Part IV**: Content Based Recommendations\n",
        "- **Part V**: Matrix Factorization\n",
        "\n",
        "## Data Sources\n",
        "- `user-item-interactions.csv`: User interactions with articles\n",
        "- `articles_community.csv`: Article content and metadata"
      ],
      "metadata": {
        "id": "EzaAPl7o8wGm"
      }
    },
    {
      "cell_type": "code",
      "execution_count": 1,
      "metadata": {
        "colab": {
          "base_uri": "https://localhost:8080/"
        },
        "id": "IB6hbTYC8jdh",
        "outputId": "682c77ef-0a4c-4011-d410-f56bcddd8d00"
      },
      "outputs": [
        {
          "output_type": "stream",
          "name": "stdout",
          "text": [
            "Libraries imported successfully!\n"
          ]
        }
      ],
      "source": [
        "# Cell 1: Import Libraries\n",
        "import pandas as pd\n",
        "import numpy as np\n",
        "import matplotlib.pyplot as plt\n",
        "import seaborn as sns\n",
        "from scipy.sparse import csr_matrix\n",
        "from sklearn.feature_extraction.text import TfidfVectorizer\n",
        "from sklearn.cluster import KMeans\n",
        "from sklearn.metrics.pairwise import cosine_similarity\n",
        "from sklearn.decomposition import TruncatedSVD\n",
        "import re\n",
        "import string\n",
        "from collections import Counter\n",
        "import warnings\n",
        "warnings.filterwarnings('ignore')\n",
        "\n",
        "# Set up plotting\n",
        "plt.style.use('default')\n",
        "sns.set_palette(\"husl\")\n",
        "\n",
        "print(\"Libraries imported successfully!\")"
      ]
    },
    {
      "cell_type": "markdown",
      "source": [
        "## Part I: Exploratory Data Analysis\n",
        "\n",
        "### Data Loading and Initial Exploration\n",
        "\n",
        "Before building any recommendation system, we need to understand our data thoroughly.\n",
        "This section loads the datasets and performs comprehensive exploratory data analysis\n",
        "to understand user behavior, article popularity, and data quality."
      ],
      "metadata": {
        "id": "SbebVDN181Ga"
      }
    },
    {
      "cell_type": "code",
      "source": [
        "def load_data():\n",
        "    \"\"\"\n",
        "    Load the user-item interactions and articles datasets.\n",
        "\n",
        "    Returns:\n",
        "        tuple: (df_interactions, df_articles) - DataFrames containing interaction and article data\n",
        "    \"\"\"\n",
        "    print(\"Loading datasets...\")\n",
        "\n",
        "    # Load user-item interactions\n",
        "    df_interactions = pd.read_csv('./data/user-item-interactions.csv')\n",
        "\n",
        "    # Load articles data\n",
        "    df_articles = pd.read_csv('./data/articles_community.csv')\n",
        "\n",
        "    print(f\"User-item interactions shape: {df_interactions.shape}\")\n",
        "    print(f\"Articles shape: {df_articles.shape}\")\n",
        "\n",
        "    return df_interactions, df_articles\n",
        "\n",
        "# Load the data\n",
        "df_interactions, df_articles = load_data()"
      ],
      "metadata": {
        "colab": {
          "base_uri": "https://localhost:8080/"
        },
        "id": "jyNKKHET83ku",
        "outputId": "892c9240-46cf-4477-868d-b9315a18e348"
      },
      "execution_count": 5,
      "outputs": [
        {
          "output_type": "stream",
          "name": "stdout",
          "text": [
            "Loading datasets...\n",
            "User-item interactions shape: (45993, 4)\n",
            "Articles shape: (1056, 6)\n"
          ]
        }
      ]
    },
    {
      "cell_type": "markdown",
      "source": [
        "### Basic Data Exploration\n",
        "\n",
        "Understanding the structure and quality of our datasets is crucial for building\n",
        "effective recommendation systems. We'll examine data types, missing values,\n",
        "and basic statistics."
      ],
      "metadata": {
        "id": "P1hnNDwF85Z7"
      }
    },
    {
      "cell_type": "code",
      "source": [
        "def basic_data_exploration(df_interactions, df_articles):\n",
        "    \"\"\"\n",
        "    Perform basic exploration of both datasets.\n",
        "\n",
        "    Args:\n",
        "        df_interactions (DataFrame): User-item interactions data\n",
        "        df_articles (DataFrame): Articles data\n",
        "\n",
        "    Returns:\n",
        "        dict: Basic statistics about the datasets\n",
        "    \"\"\"\n",
        "    print(\"=\"*60)\n",
        "    print(\"BASIC DATA EXPLORATION\")\n",
        "    print(\"=\"*60)\n",
        "\n",
        "    # User-item interactions analysis\n",
        "    print(\"\\nUser-Item Interactions Dataset:\")\n",
        "    print(f\"Shape: {df_interactions.shape}\")\n",
        "    print(f\"Columns: {list(df_interactions.columns)}\")\n",
        "    print(f\"Data types:\\n{df_interactions.dtypes}\")\n",
        "    print(f\"Missing values:\\n{df_interactions.isnull().sum()}\")\n",
        "\n",
        "    # Articles dataset analysis\n",
        "    print(\"\\nArticles Dataset:\")\n",
        "    print(f\"Shape: {df_articles.shape}\")\n",
        "    print(f\"Columns: {list(df_articles.columns)}\")\n",
        "    print(f\"Data types:\\n{df_articles.dtypes}\")\n",
        "    print(f\"Missing values:\\n{df_articles.isnull().sum()}\")\n",
        "\n",
        "    # Basic statistics\n",
        "    stats = {\n",
        "        'total_interactions': len(df_interactions),\n",
        "        'total_articles': len(df_articles),\n",
        "        'unique_users': df_interactions['email'].nunique(),\n",
        "        'unique_articles_interacted': df_interactions['article_id'].nunique()\n",
        "    }\n",
        "\n",
        "    return stats\n",
        "\n",
        "# Perform basic exploration\n",
        "basic_stats = basic_data_exploration(df_interactions, df_articles)"
      ],
      "metadata": {
        "colab": {
          "base_uri": "https://localhost:8080/"
        },
        "id": "xVyDb6y787hx",
        "outputId": "2f887379-f6d7-4b43-b731-c3c0c062f889"
      },
      "execution_count": 6,
      "outputs": [
        {
          "output_type": "stream",
          "name": "stdout",
          "text": [
            "============================================================\n",
            "BASIC DATA EXPLORATION\n",
            "============================================================\n",
            "\n",
            "User-Item Interactions Dataset:\n",
            "Shape: (45993, 4)\n",
            "Columns: ['Unnamed: 0', 'article_id', 'title', 'email']\n",
            "Data types:\n",
            "Unnamed: 0      int64\n",
            "article_id    float64\n",
            "title          object\n",
            "email          object\n",
            "dtype: object\n",
            "Missing values:\n",
            "Unnamed: 0     0\n",
            "article_id     0\n",
            "title          0\n",
            "email         17\n",
            "dtype: int64\n",
            "\n",
            "Articles Dataset:\n",
            "Shape: (1056, 6)\n",
            "Columns: ['Unnamed: 0', 'doc_body', 'doc_description', 'doc_full_name', 'doc_status', 'article_id']\n",
            "Data types:\n",
            "Unnamed: 0          int64\n",
            "doc_body           object\n",
            "doc_description    object\n",
            "doc_full_name      object\n",
            "doc_status         object\n",
            "article_id          int64\n",
            "dtype: object\n",
            "Missing values:\n",
            "Unnamed: 0          0\n",
            "doc_body           14\n",
            "doc_description     3\n",
            "doc_full_name       0\n",
            "doc_status          0\n",
            "article_id          0\n",
            "dtype: int64\n"
          ]
        }
      ]
    },
    {
      "cell_type": "markdown",
      "source": [
        "### User Behavior Analysis\n",
        "\n",
        "Understanding user interaction patterns helps us design recommendation systems\n",
        "that match user preferences and behavior. This analysis reveals how users\n",
        "engage with content on the platform."
      ],
      "metadata": {
        "id": "5SjepZhj8-E8"
      }
    },
    {
      "cell_type": "code",
      "source": [
        "def analyze_user_behavior(df_interactions):\n",
        "    \"\"\"\n",
        "    Analyze user interaction patterns and behavior.\n",
        "\n",
        "    Args:\n",
        "        df_interactions (DataFrame): User-item interactions data\n",
        "\n",
        "    Returns:\n",
        "        dict: User behavior statistics\n",
        "    \"\"\"\n",
        "    print(\"\\n\" + \"=\"*60)\n",
        "    print(\"USER BEHAVIOR ANALYSIS\")\n",
        "    print(\"=\"*60)\n",
        "\n",
        "    # User interaction counts\n",
        "    user_interactions = df_interactions.groupby('email').size()\n",
        "\n",
        "    print(f\"Number of unique users: {len(user_interactions)}\")\n",
        "    print(f\"Mean interactions per user: {user_interactions.mean():.2f}\")\n",
        "    print(f\"Median interactions per user: {user_interactions.median():.2f}\")\n",
        "    print(f\"Max interactions by a single user: {user_interactions.max()}\")\n",
        "    print(f\"Min interactions by a single user: {user_interactions.min()}\")\n",
        "\n",
        "    # User interaction distribution\n",
        "    print(f\"\\nUser interaction distribution:\")\n",
        "    print(f\"Users with 1 interaction: {(user_interactions == 1).sum()}\")\n",
        "    print(f\"Users with 2-5 interactions: {((user_interactions >= 2) & (user_interactions <= 5)).sum()}\")\n",
        "    print(f\"Users with 6-10 interactions: {((user_interactions >= 6) & (user_interactions <= 10)).sum()}\")\n",
        "    print(f\"Users with 11+ interactions: {(user_interactions >= 11).sum()}\")\n",
        "\n",
        "    # Find user with most interactions\n",
        "    max_views_by_user = user_interactions.max()\n",
        "    user_with_max_views = user_interactions.idxmax()\n",
        "\n",
        "    print(f\"\\nUser with most interactions: {user_with_max_views}\")\n",
        "    print(f\"Number of interactions: {max_views_by_user}\")\n",
        "\n",
        "    return {\n",
        "        'user_interactions': user_interactions,\n",
        "        'max_views_by_user': max_views_by_user,\n",
        "        'user_with_max_views': user_with_max_views\n",
        "    }\n",
        "\n",
        "# Analyze user behavior\n",
        "user_stats = analyze_user_behavior(df_interactions)"
      ],
      "metadata": {
        "colab": {
          "base_uri": "https://localhost:8080/"
        },
        "id": "ZXzum-749BAY",
        "outputId": "14c19baf-a3d0-448d-8494-187a00024dbd"
      },
      "execution_count": 7,
      "outputs": [
        {
          "output_type": "stream",
          "name": "stdout",
          "text": [
            "\n",
            "============================================================\n",
            "USER BEHAVIOR ANALYSIS\n",
            "============================================================\n",
            "Number of unique users: 5148\n",
            "Mean interactions per user: 8.93\n",
            "Median interactions per user: 3.00\n",
            "Max interactions by a single user: 364\n",
            "Min interactions by a single user: 1\n",
            "\n",
            "User interaction distribution:\n",
            "Users with 1 interaction: 1416\n",
            "Users with 2-5 interactions: 1807\n",
            "Users with 6-10 interactions: 805\n",
            "Users with 11+ interactions: 1120\n",
            "\n",
            "User with most interactions: 2b6c0f514c2f2b04ad3c4583407dccd0810469ee\n",
            "Number of interactions: 364\n"
          ]
        }
      ]
    },
    {
      "cell_type": "markdown",
      "source": [
        "### Article Popularity Analysis\n",
        "\n",
        "Understanding which articles are most popular helps us identify content that\n",
        "resonates with users. This analysis is crucial for rank-based recommendations\n",
        "and understanding content performance."
      ],
      "metadata": {
        "id": "WJYuJN7H9E_h"
      }
    },
    {
      "cell_type": "code",
      "source": [
        "def analyze_article_popularity(df_interactions):\n",
        "    \"\"\"\n",
        "    Analyze article popularity and interaction patterns.\n",
        "\n",
        "    Args:\n",
        "        df_interactions (DataFrame): User-item interactions data\n",
        "\n",
        "    Returns:\n",
        "        dict: Article popularity statistics\n",
        "    \"\"\"\n",
        "    print(\"\\n\" + \"=\"*60)\n",
        "    print(\"ARTICLE POPULARITY ANALYSIS\")\n",
        "    print(\"=\"*60)\n",
        "\n",
        "    # Article interaction counts\n",
        "    article_interactions = df_interactions.groupby('article_id').size()\n",
        "\n",
        "    print(f\"Number of unique articles with interactions: {len(article_interactions)}\")\n",
        "    print(f\"Mean interactions per article: {article_interactions.mean():.2f}\")\n",
        "    print(f\"Median interactions per article: {article_interactions.median():.2f}\")\n",
        "    print(f\"Max interactions for a single article: {article_interactions.max()}\")\n",
        "    print(f\"Min interactions for a single article: {article_interactions.min()}\")\n",
        "\n",
        "    # Most popular articles\n",
        "    print(f\"\\nTop 10 most popular articles:\")\n",
        "    top_articles = article_interactions.sort_values(ascending=False).head(10)\n",
        "    for article_id, count in top_articles.items():\n",
        "        print(f\"Article {article_id}: {count} interactions\")\n",
        "\n",
        "    # Find most viewed article\n",
        "    most_viewed_article_id = article_interactions.idxmax()\n",
        "    max_views = article_interactions.max()\n",
        "\n",
        "    print(f\"\\nMost viewed article ID: {most_viewed_article_id}\")\n",
        "    print(f\"Number of views: {max_views}\")\n",
        "\n",
        "    return {\n",
        "        'article_interactions': article_interactions,\n",
        "        'most_viewed_article_id': most_viewed_article_id,\n",
        "        'max_views': max_views\n",
        "    }\n",
        "\n",
        "# Analyze article popularity\n",
        "article_stats = analyze_article_popularity(df_interactions)"
      ],
      "metadata": {
        "colab": {
          "base_uri": "https://localhost:8080/"
        },
        "id": "1iWCAJw29HgX",
        "outputId": "7279edb8-474e-4c65-b3dd-71fe90517540"
      },
      "execution_count": 8,
      "outputs": [
        {
          "output_type": "stream",
          "name": "stdout",
          "text": [
            "\n",
            "============================================================\n",
            "ARTICLE POPULARITY ANALYSIS\n",
            "============================================================\n",
            "Number of unique articles with interactions: 714\n",
            "Mean interactions per article: 64.42\n",
            "Median interactions per article: 25.00\n",
            "Max interactions for a single article: 937\n",
            "Min interactions for a single article: 1\n",
            "\n",
            "Top 10 most popular articles:\n",
            "Article 1429.0: 937 interactions\n",
            "Article 1330.0: 927 interactions\n",
            "Article 1431.0: 671 interactions\n",
            "Article 1427.0: 643 interactions\n",
            "Article 1364.0: 627 interactions\n",
            "Article 1314.0: 614 interactions\n",
            "Article 1293.0: 572 interactions\n",
            "Article 1170.0: 565 interactions\n",
            "Article 1162.0: 512 interactions\n",
            "Article 1304.0: 483 interactions\n",
            "\n",
            "Most viewed article ID: 1429.0\n",
            "Number of views: 937\n"
          ]
        }
      ]
    },
    {
      "cell_type": "markdown",
      "source": [
        "### Rubric Variables Calculation\n",
        "\n",
        "These variables are required for project validation and demonstrate our\n",
        "understanding of the dataset characteristics."
      ],
      "metadata": {
        "id": "ZNlnjSZL9Jmn"
      }
    },
    {
      "cell_type": "code",
      "source": [
        "def calculate_rubric_variables(df_interactions):\n",
        "    \"\"\"\n",
        "    Calculate the specific variables required for the project rubric.\n",
        "\n",
        "    Args:\n",
        "        df_interactions (DataFrame): User-item interactions data\n",
        "\n",
        "    Returns:\n",
        "        dict: Variables required for rubric validation\n",
        "    \"\"\"\n",
        "    print(\"\\n\" + \"=\"*60)\n",
        "    print(\"RUBRIC VARIABLES CALCULATION\")\n",
        "    print(\"=\"*60)\n",
        "\n",
        "    # Calculate required variables\n",
        "    user_interactions = df_interactions.groupby('email').size()\n",
        "    median_val = user_interactions.median()\n",
        "    user_article_interactions = len(df_interactions)\n",
        "    max_views_by_user = user_interactions.max()\n",
        "    max_views = df_interactions.groupby('article_id').size().max()\n",
        "    most_viewed_article_id = df_interactions.groupby('article_id').size().idxmax()\n",
        "    unique_articles = df_interactions['article_id'].nunique()\n",
        "    unique_users = df_interactions['email'].nunique()\n",
        "    total_articles = len(df_articles)\n",
        "\n",
        "    print(f\"median_val: {median_val}\")\n",
        "    print(f\"user_article_interactions: {user_article_interactions}\")\n",
        "    print(f\"max_views_by_user: {max_views_by_user}\")\n",
        "    print(f\"max_views: {max_views}\")\n",
        "    print(f\"most_viewed_article_id: {most_viewed_article_id}\")\n",
        "    print(f\"unique_articles: {unique_articles}\")\n",
        "    print(f\"unique_users: {unique_users}\")\n",
        "    print(f\"total_articles: {total_articles}\")\n",
        "\n",
        "    return {\n",
        "        'median_val': median_val,\n",
        "        'user_article_interactions': user_article_interactions,\n",
        "        'max_views_by_user': max_views_by_user,\n",
        "        'max_views': max_views,\n",
        "        'most_viewed_article_id': most_viewed_article_id,\n",
        "        'unique_articles': unique_articles,\n",
        "        'unique_users': unique_users,\n",
        "        'total_articles': total_articles\n",
        "    }\n",
        "\n",
        "# Calculate rubric variables\n",
        "rubric_vars = calculate_rubric_variables(df_interactions)"
      ],
      "metadata": {
        "colab": {
          "base_uri": "https://localhost:8080/"
        },
        "id": "8k2R6X2G9Ldk",
        "outputId": "7874e95f-1ab6-40fb-a7da-a20922a49e65"
      },
      "execution_count": 9,
      "outputs": [
        {
          "output_type": "stream",
          "name": "stdout",
          "text": [
            "\n",
            "============================================================\n",
            "RUBRIC VARIABLES CALCULATION\n",
            "============================================================\n",
            "median_val: 3.0\n",
            "user_article_interactions: 45993\n",
            "max_views_by_user: 364\n",
            "max_views: 937\n",
            "most_viewed_article_id: 1429.0\n",
            "unique_articles: 714\n",
            "unique_users: 5148\n",
            "total_articles: 1056\n"
          ]
        }
      ]
    },
    {
      "cell_type": "markdown",
      "source": [
        "### Data Visualizations\n",
        "\n",
        "Visualizing the data helps us understand distributions and patterns that\n",
        "inform our recommendation system design."
      ],
      "metadata": {
        "id": "qiIpakDu9NRk"
      }
    },
    {
      "cell_type": "code",
      "source": [
        "def create_visualizations(df_interactions):\n",
        "    \"\"\"\n",
        "    Create visualizations to understand the data distribution.\n",
        "\n",
        "    Args:\n",
        "        df_interactions (DataFrame): User-item interactions data\n",
        "    \"\"\"\n",
        "    print(\"\\n\" + \"=\"*60)\n",
        "    print(\"CREATING VISUALIZATIONS\")\n",
        "    print(\"=\"*60)\n",
        "\n",
        "    # Set up the plotting area\n",
        "    fig, axes = plt.subplots(2, 2, figsize=(15, 12))\n",
        "    fig.suptitle('IBM Watson Studio - Data Exploration', fontsize=16)\n",
        "\n",
        "    # 1. User interaction distribution\n",
        "    user_interactions = df_interactions.groupby('email').size()\n",
        "    axes[0, 0].hist(user_interactions, bins=50, alpha=0.7, edgecolor='black')\n",
        "    axes[0, 0].set_title('Distribution of User Interactions')\n",
        "    axes[0, 0].set_xlabel('Number of Interactions')\n",
        "    axes[0, 0].set_ylabel('Number of Users')\n",
        "    axes[0, 0].axvline(user_interactions.median(), color='red', linestyle='--',\n",
        "                      label=f'Median: {user_interactions.median():.1f}')\n",
        "    axes[0, 0].legend()\n",
        "\n",
        "    # 2. Article popularity distribution\n",
        "    article_interactions = df_interactions.groupby('article_id').size()\n",
        "    axes[0, 1].hist(article_interactions, bins=50, alpha=0.7, edgecolor='black')\n",
        "    axes[0, 1].set_title('Distribution of Article Interactions')\n",
        "    axes[0, 1].set_xlabel('Number of Interactions')\n",
        "    axes[0, 1].set_ylabel('Number of Articles')\n",
        "    axes[0, 1].axvline(article_interactions.median(), color='red', linestyle='--',\n",
        "                      label=f'Median: {article_interactions.median():.1f}')\n",
        "    axes[0, 1].legend()\n",
        "\n",
        "    # 3. Top 20 most popular articles\n",
        "    top_20_articles = article_interactions.sort_values(ascending=False).head(20)\n",
        "    axes[1, 0].bar(range(len(top_20_articles)), top_20_articles.values)\n",
        "    axes[1, 0].set_title('Top 20 Most Popular Articles')\n",
        "    axes[1, 0].set_xlabel('Article Rank')\n",
        "    axes[1, 0].set_ylabel('Number of Interactions')\n",
        "    axes[1, 0].set_xticks(range(0, len(top_20_articles), 2))\n",
        "    axes[1, 0].set_xticklabels([f'Art_{i+1}' for i in range(0, len(top_20_articles), 2)])\n",
        "\n",
        "    # 4. Top 20 most active users\n",
        "    top_20_users = user_interactions.sort_values(ascending=False).head(20)\n",
        "    axes[1, 1].bar(range(len(top_20_users)), top_20_users.values)\n",
        "    axes[1, 1].set_title('Top 20 Most Active Users')\n",
        "    axes[1, 1].set_xlabel('User Rank')\n",
        "    axes[1, 1].set_ylabel('Number of Interactions')\n",
        "    axes[1, 1].set_xticks(range(0, len(top_20_users), 2))\n",
        "    axes[1, 1].set_xticklabels([f'User_{i+1}' for i in range(0, len(top_20_users), 2)])\n",
        "\n",
        "    plt.tight_layout()\n",
        "    plt.show()\n",
        "\n",
        "    # Additional insights\n",
        "    print(f\"\\nData Quality Insights:\")\n",
        "    print(f\"- {len(user_interactions)} unique users\")\n",
        "    print(f\"- {len(article_interactions)} unique articles with interactions\")\n",
        "    print(f\"- Average interactions per user: {user_interactions.mean():.2f}\")\n",
        "    print(f\"- Average interactions per article: {article_interactions.mean():.2f}\")\n",
        "    print(f\"- Sparsity: {(1 - len(df_interactions) / (len(user_interactions) * len(article_interactions))) * 100:.4f}%\")\n",
        "\n",
        "# Create visualizations\n",
        "create_visualizations(df_interactions)"
      ],
      "metadata": {
        "colab": {
          "base_uri": "https://localhost:8080/",
          "height": 1000
        },
        "id": "9IGRQD5u9QFn",
        "outputId": "db1dd7c0-020f-4eb3-f9a0-1709baa011c7"
      },
      "execution_count": 10,
      "outputs": [
        {
          "output_type": "stream",
          "name": "stdout",
          "text": [
            "\n",
            "============================================================\n",
            "CREATING VISUALIZATIONS\n",
            "============================================================\n"
          ]
        },
        {
          "output_type": "display_data",
          "data": {
            "text/plain": [
              "<Figure size 1500x1200 with 4 Axes>"
            ],
            "image/png": "[encoded data removed]"
          },
          "metadata": {}
        },
        {
          "output_type": "stream",
          "name": "stdout",
          "text": [
            "\n",
            "Data Quality Insights:\n",
            "- 5148 unique users\n",
            "- 714 unique articles with interactions\n",
            "- Average interactions per user: 8.93\n",
            "- Average interactions per article: 64.42\n",
            "- Sparsity: 98.7487%\n"
          ]
        }
      ]
    },
    {
      "cell_type": "markdown",
      "source": [
        "## Part II: Rank Based Recommendations\n",
        "\n",
        "### Introduction and Rationale\n",
        "\n",
        "Rank-based recommendations are the simplest and most intuitive approach to building\n",
        "a recommendation system. This method assumes that articles with more interactions\n",
        "are more popular and therefore more likely to be of interest to users.\n",
        "\n",
        "**Why Rank-Based Recommendations?**\n",
        "1. **Simplicity**: Easy to understand and implement\n",
        "2. **Cold Start Solution**: Works for new users with no interaction history\n",
        "3. **Popularity Signal**: Captures what the community finds valuable\n",
        "4. **Baseline Performance**: Provides a strong baseline for comparison\n",
        "5. **Scalability**: Computationally efficient and fast\n",
        "\n",
        "**When to Use:**\n",
        "- New users with no interaction history\n",
        "- Popular content discovery\n",
        "- Baseline for more complex algorithms\n",
        "- Quick recommendations when personalization isn't critical"
      ],
      "metadata": {
        "id": "lF7lmIWw9U_A"
      }
    },
    {
      "cell_type": "markdown",
      "source": [
        "### Implementation of Rank-Based Recommendation Functions\n",
        "\n",
        "These functions implement the core logic for rank-based recommendations,\n",
        "focusing on finding the most popular articles based on interaction counts."
      ],
      "metadata": {
        "id": "hZwfJrRJ9azo"
      }
    },
    {
      "cell_type": "code",
      "source": [
        "def get_top_articles(n, df_interactions):\n",
        "    \"\"\"\n",
        "    Get the top n articles based on interaction count.\n",
        "\n",
        "    Args:\n",
        "        n (int): Number of top articles to return\n",
        "        df_interactions (DataFrame): User-item interactions data\n",
        "\n",
        "    Returns:\n",
        "        list: List of top n article IDs\n",
        "    \"\"\"\n",
        "    # Count interactions per article\n",
        "    article_interactions = df_interactions.groupby('article_id').size()\n",
        "\n",
        "    # Sort by interaction count in descending order and get top n\n",
        "    top_articles = article_interactions.sort_values(ascending=False).head(n)\n",
        "\n",
        "    return list(top_articles.index)\n",
        "\n",
        "def get_top_article_ids(n, df_interactions):\n",
        "    \"\"\"\n",
        "    Get the top n article IDs based on interaction count.\n",
        "\n",
        "    Args:\n",
        "        n (int): Number of top article IDs to return\n",
        "        df_interactions (DataFrame): User-item interactions data\n",
        "\n",
        "    Returns:\n",
        "        list: List of top n article IDs\n",
        "    \"\"\"\n",
        "    return get_top_articles(n, df_interactions)\n",
        "\n",
        "def get_top_article_names(n, df_interactions):\n",
        "    \"\"\"\n",
        "    Get the top n article names based on interaction count.\n",
        "\n",
        "    Args:\n",
        "        n (int): Number of top article names to return\n",
        "        df_interactions (DataFrame): User-item interactions data\n",
        "\n",
        "    Returns:\n",
        "        list: List of top n article names\n",
        "    \"\"\"\n",
        "    # Get top article IDs\n",
        "    top_article_ids = get_top_articles(n, df_interactions)\n",
        "\n",
        "    # Get unique article titles for these IDs\n",
        "    top_article_names = []\n",
        "    for article_id in top_article_ids:\n",
        "        # Get the first occurrence of this article_id to get its title\n",
        "        article_title = df_interactions[df_interactions['article_id'] == article_id]['title'].iloc[0]\n",
        "        top_article_names.append(article_title)\n",
        "\n",
        "    return top_article_names"
      ],
      "metadata": {
        "id": "Gi_OZ_sf9e1N"
      },
      "execution_count": 11,
      "outputs": []
    },
    {
      "cell_type": "markdown",
      "source": [
        "### Testing Rank-Based Recommendation Functions\n",
        "\n",
        "Let's test our rank-based recommendation functions to ensure they work correctly\n",
        "and provide meaningful results."
      ],
      "metadata": {
        "id": "-zCp6pvG9g4l"
      }
    },
    {
      "cell_type": "code",
      "source": [
        "def test_rank_based_functions(df_interactions):\n",
        "    \"\"\"\n",
        "    Test the rank-based recommendation functions with sample data.\n",
        "\n",
        "    Args:\n",
        "        df_interactions (DataFrame): User-item interactions data\n",
        "    \"\"\"\n",
        "    print(\"Testing Rank-Based Recommendation Functions\")\n",
        "    print(\"=\" * 50)\n",
        "\n",
        "    # Test get_top_article_ids\n",
        "    print(\"\\n1. Top 10 Article IDs:\")\n",
        "    top_10_ids = get_top_article_ids(10, df_interactions)\n",
        "    print(top_10_ids)\n",
        "\n",
        "    # Test get_top_article_names\n",
        "    print(\"\\n2. Top 10 Article Names:\")\n",
        "    top_10_names = get_top_article_names(10, df_interactions)\n",
        "    for i, name in enumerate(top_10_names, 1):\n",
        "        print(f\"{i}. {name}\")\n",
        "\n",
        "    # Test with different values of n\n",
        "    print(\"\\n3. Top 5 Articles:\")\n",
        "    top_5_ids = get_top_article_ids(5, df_interactions)\n",
        "    top_5_names = get_top_article_names(5, df_interactions)\n",
        "    for i, (aid, name) in enumerate(zip(top_5_ids, top_5_names), 1):\n",
        "        print(f\"{i}. ID: {aid}, Title: {name}\")\n",
        "\n",
        "# Test the functions\n",
        "test_rank_based_functions(df_interactions)"
      ],
      "metadata": {
        "colab": {
          "base_uri": "https://localhost:8080/"
        },
        "id": "MMKc1YuO9i8_",
        "outputId": "37e6ed60-71a4-4c79-c782-431f992fdc73"
      },
      "execution_count": 12,
      "outputs": [
        {
          "output_type": "stream",
          "name": "stdout",
          "text": [
            "Testing Rank-Based Recommendation Functions\n",
            "==================================================\n",
            "\n",
            "1. Top 10 Article IDs:\n",
            "[1429.0, 1330.0, 1431.0, 1427.0, 1364.0, 1314.0, 1293.0, 1170.0, 1162.0, 1304.0]\n",
            "\n",
            "2. Top 10 Article Names:\n",
            "1. use deep learning for image classification\n",
            "2. insights from new york car accident reports\n",
            "3. visualize car data with brunel\n",
            "4. use xgboost, scikit-learn & ibm watson machine learning apis\n",
            "5. predicting churn with the spss random tree algorithm\n",
            "6. healthcare python streaming application demo\n",
            "7. finding optimal locations of new store using decision optimization\n",
            "8. apache spark lab, part 1: basic concepts\n",
            "9. analyze energy consumption in buildings\n",
            "10. gosales transactions for logistic regression model\n",
            "\n",
            "3. Top 5 Articles:\n",
            "1. ID: 1429.0, Title: use deep learning for image classification\n",
            "2. ID: 1330.0, Title: insights from new york car accident reports\n",
            "3. ID: 1431.0, Title: visualize car data with brunel\n",
            "4. ID: 1427.0, Title: use xgboost, scikit-learn & ibm watson machine learning apis\n",
            "5. ID: 1364.0, Title: predicting churn with the spss random tree algorithm\n"
          ]
        }
      ]
    },
    {
      "cell_type": "markdown",
      "source": [
        "### Analysis of Rank-Based Recommendations\n",
        "\n",
        "Understanding the characteristics of rank-based recommendations helps us\n",
        "evaluate their effectiveness and identify their strengths and limitations."
      ],
      "metadata": {
        "id": "gWBxKq5w9lK4"
      }
    },
    {
      "cell_type": "code",
      "source": [
        "def analyze_rank_based_recommendations(df_interactions):\n",
        "    \"\"\"\n",
        "    Analyze the characteristics of rank-based recommendations.\n",
        "\n",
        "    Args:\n",
        "        df_interactions (DataFrame): User-item interactions data\n",
        "    \"\"\"\n",
        "    print(\"\\n\" + \"=\"*60)\n",
        "    print(\"RANK-BASED RECOMMENDATION ANALYSIS\")\n",
        "    print(\"=\"*60)\n",
        "\n",
        "    # Get article interaction counts\n",
        "    article_counts = df_interactions.groupby('article_id').size().sort_values(ascending=False)\n",
        "\n",
        "    # Analyze coverage for different recommendation list sizes\n",
        "    total_interactions = len(df_interactions)\n",
        "\n",
        "    print(\"Coverage Analysis:\")\n",
        "    for n in [5, 10, 20, 50]:\n",
        "        top_n_articles = article_counts.head(n)\n",
        "        top_n_interactions = top_n_articles.sum()\n",
        "        coverage = (top_n_interactions / total_interactions) * 100\n",
        "        print(f\"Top {n} articles cover {coverage:.2f}% of all interactions\")\n",
        "\n",
        "    # Analyze popularity distribution\n",
        "    print(f\"\\nPopularity Distribution:\")\n",
        "    print(f\"Most popular article: {article_counts.iloc[0]} interactions\")\n",
        "    print(f\"10th most popular: {article_counts.iloc[9]} interactions\")\n",
        "    print(f\"50th most popular: {article_counts.iloc[49]} interactions\")\n",
        "    print(f\"100th most popular: {article_counts.iloc[99]} interactions\")\n",
        "\n",
        "    # Calculate Gini coefficient (measure of inequality)\n",
        "    def gini_coefficient(values):\n",
        "        \"\"\"Calculate Gini coefficient for inequality measurement.\"\"\"\n",
        "        sorted_values = np.sort(values)\n",
        "        n = len(values)\n",
        "        cumsum = np.cumsum(sorted_values)\n",
        "        return (n + 1 - 2 * np.sum(cumsum) / cumsum[-1]) / n\n",
        "\n",
        "    gini = gini_coefficient(article_counts.values)\n",
        "    print(f\"\\nGini coefficient (inequality measure): {gini:.4f}\")\n",
        "    print(\"(0 = perfect equality, 1 = maximum inequality)\")\n",
        "\n",
        "# Analyze rank-based recommendations\n",
        "analyze_rank_based_recommendations(df_interactions)"
      ],
      "metadata": {
        "colab": {
          "base_uri": "https://localhost:8080/"
        },
        "id": "Z31nra-N9n2O",
        "outputId": "089d1726-3123-4e65-d7d6-5a91b37b1c85"
      },
      "execution_count": 13,
      "outputs": [
        {
          "output_type": "stream",
          "name": "stdout",
          "text": [
            "\n",
            "============================================================\n",
            "RANK-BASED RECOMMENDATION ANALYSIS\n",
            "============================================================\n",
            "Coverage Analysis:\n",
            "Top 5 articles cover 8.27% of all interactions\n",
            "Top 10 articles cover 14.24% of all interactions\n",
            "Top 20 articles cover 24.05% of all interactions\n",
            "Top 50 articles cover 42.35% of all interactions\n",
            "\n",
            "Popularity Distribution:\n",
            "Most popular article: 937 interactions\n",
            "10th most popular: 483 interactions\n",
            "50th most popular: 206 interactions\n",
            "100th most popular: 124 interactions\n",
            "\n",
            "Gini coefficient (inequality measure): 0.6657\n",
            "(0 = perfect equality, 1 = maximum inequality)\n"
          ]
        }
      ]
    },
    {
      "cell_type": "markdown",
      "source": [
        "\"\"\"\n",
        "## Part III: User-User Based Collaborative Filtering\n",
        "\n",
        "### Introduction and Rationale\n",
        "\n",
        "Collaborative filtering is based on the principle that users who have similar preferences\n",
        "in the past will have similar preferences in the future. This approach leverages the\n",
        "\"wisdom of the crowd\" to make personalized recommendations.\n",
        "\n",
        "**Why User-User Collaborative Filtering?**\n",
        "1. **Personalization**: Provides personalized recommendations based on user behavior\n",
        "2. **Serendipity**: Can discover unexpected but relevant content\n",
        "3. **No Content Analysis**: Works without analyzing article content\n",
        "4. **Proven Effectiveness**: Widely used and effective in practice\n",
        "5. **Handles Complex Preferences**: Captures implicit user preferences\n",
        "\n",
        "**How It Works:**\n",
        "1. Build a user-item interaction matrix\n",
        "2. Find users similar to the target user based on interaction patterns\n",
        "3. Recommend articles that similar users have interacted with\n",
        "4. Rank recommendations by similarity and popularity\n",
        "\n",
        "**Challenges:**\n",
        "- Cold start problem for new users\n",
        "- Scalability with large user bases\n",
        "- Data sparsity issues"
      ],
      "metadata": {
        "id": "C090KoK89rhi"
      }
    },
    {
      "cell_type": "markdown",
      "source": [
        "### Creating the User-Item Matrix\n",
        "\n",
        "The user-item matrix is the foundation of collaborative filtering. It represents\n",
        "the interaction history between users and articles in a structured format."
      ],
      "metadata": {
        "id": "ozjxzlpe9txz"
      }
    },
    {
      "cell_type": "code",
      "source": [
        "def create_user_item_matrix(df_interactions):\n",
        "    \"\"\"\n",
        "    Create a user-item matrix with users on rows and articles on columns.\n",
        "    There should be a 1 if a user-article interacted with one another and zero otherwise.\n",
        "\n",
        "    Args:\n",
        "        df_interactions (DataFrame): User-item interactions data\n",
        "\n",
        "    Returns:\n",
        "        tuple: (user_item_matrix, user_idx_map, article_idx_map)\n",
        "            - user_item_matrix: Sparse matrix of user-item interactions\n",
        "            - user_idx_map: Dictionary mapping user emails to matrix indices\n",
        "            - article_idx_map: Dictionary mapping article IDs to matrix indices\n",
        "    \"\"\"\n",
        "    print(\"Creating user-item matrix...\")\n",
        "\n",
        "    # Remove any rows with missing email or article_id\n",
        "    df_clean = df_interactions.dropna(subset=['email', 'article_id'])\n",
        "\n",
        "    # Get unique users and articles\n",
        "    unique_users = df_clean['email'].unique()\n",
        "    unique_articles = df_clean['article_id'].unique()\n",
        "\n",
        "    # Create mapping dictionaries\n",
        "    user_idx_map = {user: idx for idx, user in enumerate(unique_users)}\n",
        "    article_idx_map = {article: idx for idx, article in enumerate(unique_articles)}\n",
        "\n",
        "    # Create lists for sparse matrix construction\n",
        "    user_indices = []\n",
        "    article_indices = []\n",
        "    data = []\n",
        "\n",
        "    # Fill the matrix with 1s where interactions exist\n",
        "    for _, row in df_clean.iterrows():\n",
        "        user_idx = user_idx_map[row['email']]\n",
        "        article_idx = article_idx_map[row['article_id']]\n",
        "\n",
        "        user_indices.append(user_idx)\n",
        "        article_indices.append(article_idx)\n",
        "        data.append(1)\n",
        "\n",
        "    # Create sparse matrix\n",
        "    user_item_matrix = csr_matrix((data, (user_indices, article_indices)),\n",
        "                                 shape=(len(unique_users), len(unique_articles)))\n",
        "\n",
        "    print(f\"User-item matrix shape: {user_item_matrix.shape}\")\n",
        "    print(f\"Number of interactions: {user_item_matrix.nnz}\")\n",
        "    print(f\"Sparsity: {(1 - user_item_matrix.nnz / (user_item_matrix.shape[0] * user_item_matrix.shape[1])) * 100:.4f}%\")\n",
        "\n",
        "    return user_item_matrix, user_idx_map, article_idx_map\n",
        "\n",
        "# Create the user-item matrix\n",
        "user_item_matrix, user_idx_map, article_idx_map = create_user_item_matrix(df_interactions)"
      ],
      "metadata": {
        "colab": {
          "base_uri": "https://localhost:8080/"
        },
        "id": "evTtIU1_9wb1",
        "outputId": "75d9f7f1-8ce5-4144-9105-f75c23d2757b"
      },
      "execution_count": 14,
      "outputs": [
        {
          "output_type": "stream",
          "name": "stdout",
          "text": [
            "Creating user-item matrix...\n",
            "User-item matrix shape: (5148, 714)\n",
            "Number of interactions: 33669\n",
            "Sparsity: 99.0840%\n"
          ]
        }
      ]
    },
    {
      "cell_type": "markdown",
      "source": [
        "### Finding Similar Users\n",
        "\n",
        "The core of collaborative filtering is finding users with similar preferences.\n",
        "We use cosine similarity to measure how similar two users' interaction patterns are."
      ],
      "metadata": {
        "id": "207YyL0q9ye7"
      }
    },
    {
      "cell_type": "code",
      "source": [
        "def find_similar_users(user_id, user_item_matrix, user_idx_map, n=10):\n",
        "    \"\"\"\n",
        "    Find similar users based on cosine similarity of their interaction patterns.\n",
        "\n",
        "    Args:\n",
        "        user_id (str): User email/ID to find similar users for\n",
        "        user_item_matrix (csr_matrix): User-item interaction matrix\n",
        "        user_idx_map (dict): Mapping from user emails to matrix indices\n",
        "        n (int): Number of similar users to return\n",
        "\n",
        "    Returns:\n",
        "        list: List of similar user emails sorted by similarity (most similar first)\n",
        "    \"\"\"\n",
        "    if user_id not in user_idx_map:\n",
        "        print(f\"User {user_id} not found in the dataset\")\n",
        "        return []\n",
        "\n",
        "    # Get user index\n",
        "    user_idx = user_idx_map[user_id]\n",
        "\n",
        "    # Calculate cosine similarity with all other users\n",
        "    similarities = cosine_similarity(user_item_matrix[user_idx], user_item_matrix).flatten()\n",
        "\n",
        "    # Get indices of most similar users (excluding the user themselves)\n",
        "    similar_user_indices = np.argsort(similarities)[::-1][1:n+1]\n",
        "\n",
        "    # Map back to user emails\n",
        "    reverse_user_map = {idx: email for email, idx in user_idx_map.items()}\n",
        "    similar_users = [reverse_user_map[idx] for idx in similar_user_indices]\n",
        "\n",
        "    return similar_users\n",
        "\n",
        "def get_user_articles(user_id, df_interactions):\n",
        "    \"\"\"\n",
        "    Get articles that a user has interacted with.\n",
        "\n",
        "    Args:\n",
        "        user_id (str): User email/ID\n",
        "        df_interactions (DataFrame): User-item interactions data\n",
        "\n",
        "    Returns:\n",
        "        set: Set of article IDs the user has interacted with\n",
        "    \"\"\"\n",
        "    user_interactions = df_interactions[df_interactions['email'] == user_id]\n",
        "    return set(user_interactions['article_id'].dropna())"
      ],
      "metadata": {
        "id": "YuSMdxaL91YW"
      },
      "execution_count": 15,
      "outputs": []
    },
    {
      "cell_type": "markdown",
      "source": [
        "### Making Collaborative Filtering Recommendations\n",
        "\n",
        "These functions implement the core collaborative filtering logic to recommend\n",
        "articles based on similar users' preferences."
      ],
      "metadata": {
        "id": "tUEILQtR93Cj"
      }
    },
    {
      "cell_type": "code",
      "source": [
        "def user_user_recs(user_id, m, df_interactions, user_item_matrix, user_idx_map, article_idx_map):\n",
        "    \"\"\"\n",
        "    Make recommendations for a user using user-user collaborative filtering.\n",
        "\n",
        "    Args:\n",
        "        user_id (str): User email/ID to make recommendations for\n",
        "        m (int): Number of recommendations to return\n",
        "        df_interactions (DataFrame): User-item interactions data\n",
        "        user_item_matrix (csr_matrix): User-item interaction matrix\n",
        "        user_idx_map (dict): Mapping from user emails to matrix indices\n",
        "        article_idx_map (dict): Mapping from article IDs to matrix indices\n",
        "\n",
        "    Returns:\n",
        "        list: List of recommended article IDs\n",
        "    \"\"\"\n",
        "    # Get articles the user has already interacted with\n",
        "    user_articles = get_user_articles(user_id, df_interactions)\n",
        "\n",
        "    # Find similar users\n",
        "    similar_users = find_similar_users(user_id, user_item_matrix, user_idx_map, n=10)\n",
        "\n",
        "    if not similar_users:\n",
        "        return []\n",
        "\n",
        "    # Get articles from similar users that the target user hasn't seen\n",
        "    recommendations = []\n",
        "    article_scores = {}\n",
        "\n",
        "    for similar_user in similar_users:\n",
        "        similar_user_articles = get_user_articles(similar_user, df_interactions)\n",
        "\n",
        "        # Find articles that similar user has seen but target user hasn't\n",
        "        new_articles = similar_user_articles - user_articles\n",
        "\n",
        "        # Score articles based on how many similar users have interacted with them\n",
        "        for article in new_articles:\n",
        "            if article in article_scores:\n",
        "                article_scores[article] += 1\n",
        "            else:\n",
        "                article_scores[article] = 1\n",
        "\n",
        "    # Sort articles by score and return top m\n",
        "    sorted_articles = sorted(article_scores.items(), key=lambda x: x[1], reverse=True)\n",
        "    recommendations = [article for article, score in sorted_articles[:m]]\n",
        "\n",
        "    return recommendations"
      ],
      "metadata": {
        "id": "ANBUQNEw95Xj"
      },
      "execution_count": 16,
      "outputs": []
    },
    {
      "cell_type": "markdown",
      "source": [
        "### Improved Collaborative Filtering\n",
        "\n",
        "This enhanced version ranks recommendations by users who have the most article\n",
        "interactions first and then by articles with the most interactions."
      ],
      "metadata": {
        "id": "wem4HX6r97Mp"
      }
    },
    {
      "cell_type": "code",
      "source": [
        "def get_user_interaction_counts(df_interactions):\n",
        "    \"\"\"\n",
        "    Get interaction counts for all users.\n",
        "\n",
        "    Args:\n",
        "        df_interactions (DataFrame): User-item interactions data\n",
        "\n",
        "    Returns:\n",
        "        Series: User interaction counts\n",
        "    \"\"\"\n",
        "    return df_interactions.groupby('email').size()\n",
        "\n",
        "def get_article_interaction_counts(df_interactions):\n",
        "    \"\"\"\n",
        "    Get interaction counts for all articles.\n",
        "\n",
        "    Args:\n",
        "        df_interactions (DataFrame): User-item interactions data\n",
        "\n",
        "    Returns:\n",
        "        Series: Article interaction counts\n",
        "    \"\"\"\n",
        "    return df_interactions.groupby('article_id').size()\n",
        "\n",
        "def get_top_sorted_users(user_id, df_interactions, user_item_matrix, user_idx_map, article_idx_map, n=10):\n",
        "    \"\"\"\n",
        "    Get top n similar users sorted by their interaction counts and similarity.\n",
        "\n",
        "    Args:\n",
        "        user_id (str): User email/ID\n",
        "        df_interactions (DataFrame): User-item interactions data\n",
        "        user_item_matrix (csr_matrix): User-item interaction matrix\n",
        "        user_idx_map (dict): Mapping from user emails to matrix indices\n",
        "        article_idx_map (dict): Mapping from article IDs to matrix indices\n",
        "        n (int): Number of similar users to return\n",
        "\n",
        "    Returns:\n",
        "        list: List of similar user emails sorted by activity and similarity\n",
        "    \"\"\"\n",
        "    # Find similar users\n",
        "    similar_users = find_similar_users(user_id, user_item_matrix, user_idx_map, n=n*2)\n",
        "\n",
        "    if not similar_users:\n",
        "        return []\n",
        "\n",
        "    # Get user interaction counts\n",
        "    user_counts = get_user_interaction_counts(df_interactions)\n",
        "\n",
        "    # Sort similar users by their interaction counts (most active first)\n",
        "    similar_users_with_counts = [(user, user_counts.get(user, 0)) for user in similar_users]\n",
        "    similar_users_with_counts.sort(key=lambda x: x[1], reverse=True)\n",
        "\n",
        "    return [user for user, count in similar_users_with_counts[:n]]\n",
        "\n",
        "def make_content_recs(user_id, m, df_interactions, user_item_matrix, user_idx_map, article_idx_map):\n",
        "    \"\"\"\n",
        "    Make recommendations for a user using improved collaborative filtering.\n",
        "    This function ranks recommendations by users who have the most article interactions\n",
        "    first and then by articles with the most interactions.\n",
        "\n",
        "    Args:\n",
        "        user_id (str): User email/ID to make recommendations for\n",
        "        m (int): Number of recommendations to return\n",
        "        df_interactions (DataFrame): User-item interactions data\n",
        "        user_item_matrix (csr_matrix): User-item interaction matrix\n",
        "        user_idx_map (dict): Mapping from user emails to matrix indices\n",
        "        article_idx_map (dict): Mapping from article IDs to matrix indices\n",
        "\n",
        "    Returns:\n",
        "        list: List of recommended article IDs\n",
        "    \"\"\"\n",
        "    # Get articles the user has already interacted with\n",
        "    user_articles = get_user_articles(user_id, df_interactions)\n",
        "\n",
        "    # Get top similar users sorted by activity\n",
        "    similar_users = get_top_sorted_users(user_id, df_interactions, user_item_matrix, user_idx_map, article_idx_map, n=10)\n",
        "\n",
        "    if not similar_users:\n",
        "        return []\n",
        "\n",
        "    # Get article interaction counts for ranking\n",
        "    article_counts = get_article_interaction_counts(df_interactions)\n",
        "\n",
        "    # Get articles from similar users that the target user hasn't seen\n",
        "    recommendations = []\n",
        "    article_scores = {}\n",
        "\n",
        "    for similar_user in similar_users:\n",
        "        similar_user_articles = get_user_articles(similar_user, df_interactions)\n",
        "\n",
        "        # Find articles that similar user has seen but target user hasn't\n",
        "        new_articles = similar_user_articles - user_articles\n",
        "\n",
        "        # Score articles based on user activity and article popularity\n",
        "        for article in new_articles:\n",
        "            user_activity_score = get_user_interaction_counts(df_interactions).get(similar_user, 0)\n",
        "            article_popularity_score = article_counts.get(article, 0)\n",
        "\n",
        "            # Combined score: user activity * article popularity\n",
        "            combined_score = user_activity_score * article_popularity_score\n",
        "\n",
        "            if article in article_scores:\n",
        "                article_scores[article] += combined_score\n",
        "            else:\n",
        "                article_scores[article] = combined_score\n",
        "\n",
        "    # Sort articles by combined score and return top m\n",
        "    sorted_articles = sorted(article_scores.items(), key=lambda x: x[1], reverse=True)\n",
        "    recommendations = [article for article, score in sorted_articles[:m]]\n",
        "\n",
        "    return recommendations"
      ],
      "metadata": {
        "id": "LdkduV459_C4"
      },
      "execution_count": 17,
      "outputs": []
    },
    {
      "cell_type": "markdown",
      "source": [
        "### Testing Collaborative Filtering Functions\n",
        "\n",
        "Let's test our collaborative filtering implementation with real users to see\n",
        "how well it performs."
      ],
      "metadata": {
        "id": "-zhsh0Qd-Ahz"
      }
    },
    {
      "cell_type": "code",
      "source": [
        "def test_collaborative_filtering(df_interactions, user_item_matrix, user_idx_map, article_idx_map):\n",
        "    \"\"\"\n",
        "    Test the collaborative filtering functions with sample data.\n",
        "\n",
        "    Args:\n",
        "        df_interactions (DataFrame): User-item interactions data\n",
        "        user_item_matrix (csr_matrix): User-item interaction matrix\n",
        "        user_idx_map (dict): Mapping from user emails to matrix indices\n",
        "        article_idx_map (dict): Mapping from article IDs to matrix indices\n",
        "    \"\"\"\n",
        "    print(\"Testing Collaborative Filtering Functions\")\n",
        "    print(\"=\" * 50)\n",
        "\n",
        "    # Test with a sample user\n",
        "    sample_user = df_interactions['email'].iloc[0]\n",
        "    print(f\"\\nTesting with user: {sample_user}\")\n",
        "\n",
        "    # Test find_similar_users\n",
        "    print(\"\\n1. Finding similar users:\")\n",
        "    similar_users = find_similar_users(sample_user, user_item_matrix, user_idx_map, n=5)\n",
        "    print(f\"Top 5 similar users: {similar_users}\")\n",
        "\n",
        "    # Test user_user_recs\n",
        "    print(\"\\n2. User-user collaborative filtering recommendations:\")\n",
        "    user_recs = user_user_recs(sample_user, 5, df_interactions, user_item_matrix, user_idx_map, article_idx_map)\n",
        "    print(f\"Recommended articles: {user_recs}\")\n",
        "\n",
        "    # Test improved recommendations\n",
        "    print(\"\\n3. Improved collaborative filtering recommendations:\")\n",
        "    improved_recs = make_content_recs(sample_user, 5, df_interactions, user_item_matrix, user_idx_map, article_idx_map)\n",
        "    print(f\"Improved recommended articles: {improved_recs}\")\n",
        "\n",
        "    # Test with a new user (not in the dataset)\n",
        "    print(\"\\n4. Testing with new user:\")\n",
        "    new_user = \"new_user@example.com\"\n",
        "    new_user_recs = user_user_recs(new_user, 5, df_interactions, user_item_matrix, user_idx_map, article_idx_map)\n",
        "    print(f\"New user recommendations: {new_user_recs}\")\n",
        "\n",
        "    # For new users, fall back to rank-based recommendations\n",
        "    if not new_user_recs:\n",
        "        print(\"New user not found, using rank-based recommendations:\")\n",
        "        rank_based_recs = get_top_article_ids(5, df_interactions)\n",
        "        print(f\"Rank-based recommendations: {rank_based_recs}\")\n",
        "\n",
        "# Test collaborative filtering\n",
        "test_collaborative_filtering(df_interactions, user_item_matrix, user_idx_map, article_idx_map)"
      ],
      "metadata": {
        "colab": {
          "base_uri": "https://localhost:8080/"
        },
        "id": "b01SDu1u-D6u",
        "outputId": "51930036-1835-40d9-83d5-c739207bf446"
      },
      "execution_count": 18,
      "outputs": [
        {
          "output_type": "stream",
          "name": "stdout",
          "text": [
            "Testing Collaborative Filtering Functions\n",
            "==================================================\n",
            "\n",
            "Testing with user: ef5f11f77ba020cd36e1105a00ab868bbdbf7fe7\n",
            "\n",
            "1. Finding similar users:\n",
            "Top 5 similar users: ['df872df0d72240626cb998b1e8699ab93e08228f', 'b2ad1860281633817f584ac7d6cee322ad96bfbd', '67189216e738ace749c97ffc9c92fda82f5117a0', '84ffdf4c1d5e3574b968afb72f3e5a8c3793a39e', '8a19c743688b2c36c8acd9931fe3974a598cb3d5']\n",
            "\n",
            "2. User-user collaborative filtering recommendations:\n",
            "Recommended articles: [1351.0, 1360.0, 1160.0, 1423.0, 1336.0]\n",
            "\n",
            "3. Improved collaborative filtering recommendations:\n",
            "Improved recommended articles: [1351.0, 1364.0, 1162.0, 1393.0, 1160.0]\n",
            "\n",
            "4. Testing with new user:\n",
            "User new_user@example.com not found in the dataset\n",
            "New user recommendations: []\n",
            "New user not found, using rank-based recommendations:\n",
            "Rank-based recommendations: [1429.0, 1330.0, 1431.0, 1427.0, 1364.0]\n"
          ]
        }
      ]
    },
    {
      "cell_type": "markdown",
      "source": [
        "## Part IV: Content Based Recommendations\n",
        "\n",
        "### Introduction and Rationale\n",
        "\n",
        "Content-based recommendations analyze the actual content of articles to find\n",
        "similar items. This approach uses natural language processing techniques to\n",
        "understand article content and recommend similar articles based on text similarity.\n",
        "\n",
        "**Why Content-Based Recommendations?**\n",
        "1. **Content Understanding**: Analyzes actual article content, not just interactions\n",
        "2. **Cold Start Solution**: Works for new articles with no interaction history\n",
        "3. **Domain Knowledge**: Leverages article content and metadata\n",
        "4. **Serendipity**: Can discover content based on topic similarity\n",
        "5. **Independence**: Doesn't rely on user interaction patterns\n",
        "\n",
        "**How It Works:**\n",
        "1. Preprocess article text content (doc_body, doc_description)\n",
        "2. Create TF-IDF vectors to represent article content\n",
        "3. Use KMeans clustering to group similar articles\n",
        "4. Recommend articles from the same cluster or with high similarity\n",
        "\n",
        "**Technical Approach:**\n",
        "- **TF-IDF**: Term Frequency-Inverse Document Frequency for text vectorization\n",
        "- **KMeans Clustering**: Groups articles by content similarity\n",
        "- **Cosine Similarity**: Measures similarity between article vectors"
      ],
      "metadata": {
        "id": "jlT09R1l-Gp7"
      }
    },
    {
      "cell_type": "markdown",
      "source": [
        "### Text Preprocessing for Content Analysis\n",
        "\n",
        "Before we can analyze article content, we need to clean and preprocess the text\n",
        "to remove noise and standardize the format."
      ],
      "metadata": {
        "id": "JiFHGAiY-IVq"
      }
    },
    {
      "cell_type": "code",
      "source": [
        "def preprocess_text(text):\n",
        "    \"\"\"\n",
        "    Preprocess text by removing HTML tags, special characters, and normalizing.\n",
        "\n",
        "    Args:\n",
        "        text (str): Raw text to preprocess\n",
        "\n",
        "    Returns:\n",
        "        str: Preprocessed text\n",
        "    \"\"\"\n",
        "    if pd.isna(text):\n",
        "        return \"\"\n",
        "\n",
        "    # Convert to string\n",
        "    text = str(text)\n",
        "\n",
        "    # Remove HTML tags\n",
        "    text = re.sub(r'<[^>]+>', '', text)\n",
        "\n",
        "    # Remove special characters and digits\n",
        "    text = re.sub(r'[^a-zA-Z\\s]', '', text)\n",
        "\n",
        "    # Convert to lowercase\n",
        "    text = text.lower()\n",
        "\n",
        "    # Remove extra whitespace\n",
        "    text = re.sub(r'\\s+', ' ', text).strip()\n",
        "\n",
        "    return text\n",
        "\n",
        "def prepare_article_content(df_articles):\n",
        "    \"\"\"\n",
        "    Prepare article content by combining doc_body and doc_description.\n",
        "\n",
        "    Args:\n",
        "        df_articles (DataFrame): Articles data\n",
        "\n",
        "    Returns:\n",
        "        DataFrame: Articles with combined and preprocessed content\n",
        "    \"\"\"\n",
        "    print(\"Preparing article content...\")\n",
        "\n",
        "    # Create a copy of the dataframe\n",
        "    df_processed = df_articles.copy()\n",
        "\n",
        "    # Fill missing values with empty strings\n",
        "    df_processed['doc_body'] = df_processed['doc_body'].fillna('')\n",
        "    df_processed['doc_description'] = df_processed['doc_description'].fillna('')\n",
        "\n",
        "    # Combine doc_body and doc_description\n",
        "    df_processed['combined_content'] = (\n",
        "        df_processed['doc_body'].astype(str) + ' ' +\n",
        "        df_processed['doc_description'].astype(str)\n",
        "    )\n",
        "\n",
        "    # Preprocess the combined content\n",
        "    df_processed['processed_content'] = df_processed['combined_content'].apply(preprocess_text)\n",
        "\n",
        "    # Remove articles with very short content\n",
        "    df_processed = df_processed[df_processed['processed_content'].str.len() > 50]\n",
        "\n",
        "    print(f\"Processed {len(df_processed)} articles with sufficient content\")\n",
        "\n",
        "    return df_processed\n",
        "\n",
        "# Prepare article content\n",
        "df_processed = prepare_article_content(df_articles)\n"
      ],
      "metadata": {
        "colab": {
          "base_uri": "https://localhost:8080/"
        },
        "id": "evEDztid-K0z",
        "outputId": "9367f7ef-5e76-4939-8c19-e9adcd61eb31"
      },
      "execution_count": 19,
      "outputs": [
        {
          "output_type": "stream",
          "name": "stdout",
          "text": [
            "Preparing article content...\n",
            "Processed 1056 articles with sufficient content\n"
          ]
        }
      ]
    },
    {
      "cell_type": "markdown",
      "source": [
        "### TF-IDF Vectorization\n",
        "\n",
        "TF-IDF (Term Frequency-Inverse Document Frequency) converts text documents into\n",
        "numerical vectors that can be used for similarity calculations and clustering."
      ],
      "metadata": {
        "id": "j17Wysvq-NZj"
      }
    },
    {
      "cell_type": "code",
      "source": [
        "def create_tfidf_matrix(df_processed, max_features=5000, min_df=2, max_df=0.8):\n",
        "    \"\"\"\n",
        "    Create TF-IDF matrix from processed article content.\n",
        "\n",
        "    Args:\n",
        "        df_processed (DataFrame): Articles with processed content\n",
        "        max_features (int): Maximum number of features for TF-IDF\n",
        "        min_df (int): Minimum document frequency\n",
        "        max_df (float): Maximum document frequency\n",
        "\n",
        "    Returns:\n",
        "        tuple: (tfidf_matrix, tfidf_vectorizer, feature_names)\n",
        "    \"\"\"\n",
        "    print(\"Creating TF-IDF matrix...\")\n",
        "\n",
        "    # Initialize TF-IDF vectorizer\n",
        "    tfidf_vectorizer = TfidfVectorizer(\n",
        "        max_features=max_features,\n",
        "        min_df=min_df,\n",
        "        max_df=max_df,\n",
        "        stop_words='english',\n",
        "        ngram_range=(1, 2)  # Include both unigrams and bigrams\n",
        "    )\n",
        "\n",
        "    # Fit and transform the content\n",
        "    tfidf_matrix = tfidf_vectorizer.fit_transform(df_processed['processed_content'])\n",
        "\n",
        "    # Get feature names\n",
        "    feature_names = tfidf_vectorizer.get_feature_names_out()\n",
        "\n",
        "    print(f\"TF-IDF matrix shape: {tfidf_matrix.shape}\")\n",
        "    print(f\"Number of features: {len(feature_names)}\")\n",
        "\n",
        "    return tfidf_matrix, tfidf_vectorizer, feature_names\n",
        "\n",
        "# Create TF-IDF matrix\n",
        "tfidf_matrix, tfidf_vectorizer, feature_names = create_tfidf_matrix(df_processed)"
      ],
      "metadata": {
        "colab": {
          "base_uri": "https://localhost:8080/"
        },
        "id": "OyB6Ydpz-PYb",
        "outputId": "360a99fd-2834-4afe-b6fd-b990f8052847"
      },
      "execution_count": 20,
      "outputs": [
        {
          "output_type": "stream",
          "name": "stdout",
          "text": [
            "Creating TF-IDF matrix...\n",
            "TF-IDF matrix shape: (1056, 5000)\n",
            "Number of features: 5000\n"
          ]
        }
      ]
    },
    {
      "cell_type": "markdown",
      "source": [
        "### KMeans Clustering for Article Grouping\n",
        "\n",
        "KMeans clustering groups articles with similar content together, allowing us\n",
        "to recommend articles from the same cluster or similar clusters."
      ],
      "metadata": {
        "id": "eSyBmeoY-RKf"
      }
    },
    {
      "cell_type": "code",
      "source": [
        "def find_optimal_clusters(tfidf_matrix, max_clusters=20):\n",
        "    \"\"\"\n",
        "    Find optimal number of clusters using elbow method.\n",
        "\n",
        "    Args:\n",
        "        tfidf_matrix (sparse matrix): TF-IDF matrix\n",
        "        max_clusters (int): Maximum number of clusters to test\n",
        "\n",
        "    Returns:\n",
        "        int: Optimal number of clusters\n",
        "    \"\"\"\n",
        "    print(\"Finding optimal number of clusters...\")\n",
        "\n",
        "    # Test different numbers of clusters\n",
        "    cluster_range = range(2, min(max_clusters + 1, tfidf_matrix.shape[0]))\n",
        "    inertias = []\n",
        "\n",
        "    for n_clusters in cluster_range:\n",
        "        kmeans = KMeans(n_clusters=n_clusters, random_state=42, n_init=10)\n",
        "        kmeans.fit(tfidf_matrix)\n",
        "        inertias.append(kmeans.inertia_)\n",
        "\n",
        "    # Find elbow point (simplified approach)\n",
        "    if len(inertias) > 1:\n",
        "        diffs = np.diff(inertias)\n",
        "        second_diffs = np.diff(diffs)\n",
        "        optimal_clusters = cluster_range[np.argmax(second_diffs) + 1]\n",
        "    else:\n",
        "        optimal_clusters = 5  # Default fallback\n",
        "\n",
        "    print(f\"Optimal number of clusters: {optimal_clusters}\")\n",
        "\n",
        "    return optimal_clusters\n",
        "\n",
        "def cluster_articles(tfidf_matrix, n_clusters=None):\n",
        "    \"\"\"\n",
        "    Cluster articles using KMeans clustering.\n",
        "\n",
        "    Args:\n",
        "        tfidf_matrix (sparse matrix): TF-IDF matrix\n",
        "        n_clusters (int): Number of clusters (if None, will find optimal)\n",
        "\n",
        "    Returns:\n",
        "        tuple: (kmeans_model, cluster_labels)\n",
        "    \"\"\"\n",
        "    print(\"Clustering articles...\")\n",
        "\n",
        "    if n_clusters is None:\n",
        "        n_clusters = find_optimal_clusters(tfidf_matrix)\n",
        "\n",
        "    # Initialize and fit KMeans\n",
        "    kmeans = KMeans(n_clusters=n_clusters, random_state=42, n_init=10)\n",
        "    cluster_labels = kmeans.fit_predict(tfidf_matrix)\n",
        "\n",
        "    print(f\"Clustered {len(cluster_labels)} articles into {n_clusters} clusters\")\n",
        "\n",
        "    return kmeans, cluster_labels\n",
        "\n",
        "# Cluster articles\n",
        "kmeans_model, cluster_labels = cluster_articles(tfidf_matrix)"
      ],
      "metadata": {
        "colab": {
          "base_uri": "https://localhost:8080/"
        },
        "id": "zhmUExFN-GXl",
        "outputId": "b6061905-d82a-4aca-c0bc-6fc8c3bc505e"
      },
      "execution_count": 21,
      "outputs": [
        {
          "output_type": "stream",
          "name": "stdout",
          "text": [
            "Clustering articles...\n",
            "Finding optimal number of clusters...\n",
            "Optimal number of clusters: 14\n",
            "Clustered 1056 articles into 14 clusters\n"
          ]
        }
      ]
    },
    {
      "cell_type": "markdown",
      "source": [
        "### Content-Based Recommendation Functions\n",
        "\n",
        "These functions implement content-based recommendations using TF-IDF similarity\n",
        "and clustering results."
      ],
      "metadata": {
        "id": "5tXEXpP0-WUP"
      }
    },
    {
      "cell_type": "code",
      "source": [
        "def get_article_similarity(tfidf_matrix, article_id, df_processed, top_n=10):\n",
        "    \"\"\"\n",
        "    Get articles similar to a given article based on TF-IDF cosine similarity.\n",
        "\n",
        "    Args:\n",
        "        tfidf_matrix (sparse matrix): TF-IDF matrix\n",
        "        article_id (int): Article ID to find similar articles for\n",
        "        df_processed (DataFrame): Processed articles data\n",
        "        top_n (int): Number of similar articles to return\n",
        "\n",
        "    Returns:\n",
        "        list: List of similar article IDs\n",
        "    \"\"\"\n",
        "    # Find the index of the article in the processed dataframe\n",
        "    article_idx = df_processed[df_processed['article_id'] == article_id].index\n",
        "\n",
        "    if len(article_idx) == 0:\n",
        "        print(f\"Article {article_id} not found in processed data\")\n",
        "        return []\n",
        "\n",
        "    article_idx = article_idx[0]\n",
        "\n",
        "    # Get the TF-IDF vector for the article\n",
        "    article_vector = tfidf_matrix[article_idx]\n",
        "\n",
        "    # Calculate cosine similarity with all other articles\n",
        "    similarities = cosine_similarity(article_vector, tfidf_matrix).flatten()\n",
        "\n",
        "    # Get indices of most similar articles (excluding the article itself)\n",
        "    similar_indices = np.argsort(similarities)[::-1][1:top_n+1]\n",
        "\n",
        "    # Map back to article IDs\n",
        "    similar_article_ids = df_processed.iloc[similar_indices]['article_id'].tolist()\n",
        "\n",
        "    return similar_article_ids\n",
        "\n",
        "def make_content_recs(article_id, m, df_processed, tfidf_matrix):\n",
        "    \"\"\"\n",
        "    Make content-based recommendations for a given article.\n",
        "\n",
        "    Args:\n",
        "        article_id (int): Article ID to make recommendations for\n",
        "        m (int): Number of recommendations to return\n",
        "        df_processed (DataFrame): Processed articles data\n",
        "        tfidf_matrix (sparse matrix): TF-IDF matrix\n",
        "\n",
        "    Returns:\n",
        "        list: List of recommended article IDs\n",
        "    \"\"\"\n",
        "    return get_article_similarity(tfidf_matrix, article_id, df_processed, top_n=m)"
      ],
      "metadata": {
        "id": "_YYwtMXz-cV4"
      },
      "execution_count": 22,
      "outputs": []
    },
    {
      "cell_type": "markdown",
      "source": [
        "### Testing Content-Based Recommendations\n",
        "\n",
        "Let's test our content-based recommendation system with real articles to see\n",
        "how well it identifies similar content."
      ],
      "metadata": {
        "id": "Rm6etKfw-sLa"
      }
    },
    {
      "cell_type": "code",
      "source": [
        "def test_content_based_recommendations(df_articles, df_interactions, df_processed, tfidf_matrix):\n",
        "    \"\"\"\n",
        "    Test the content-based recommendation functions.\n",
        "\n",
        "    Args:\n",
        "        df_articles (DataFrame): Articles data\n",
        "        df_interactions (DataFrame): User-item interactions data\n",
        "        df_processed (DataFrame): Processed articles data\n",
        "        tfidf_matrix (sparse matrix): TF-IDF matrix\n",
        "    \"\"\"\n",
        "    print(\"Testing Content-Based Recommendation Functions\")\n",
        "    print(\"=\" * 50)\n",
        "\n",
        "    # Find articles that exist in both interactions and articles data\n",
        "    common_articles = set(df_interactions['article_id']) & set(df_articles['article_id'])\n",
        "    print(f\"\\nFound {len(common_articles)} articles in both datasets\")\n",
        "\n",
        "    if len(common_articles) > 0:\n",
        "        # Get popular articles that exist in both datasets\n",
        "        popular_articles = df_interactions.groupby('article_id').size().sort_values(ascending=False)\n",
        "        popular_common_articles = [aid for aid in popular_articles.index if aid in common_articles]\n",
        "\n",
        "        if len(popular_common_articles) > 0:\n",
        "            test_article_id = popular_common_articles[0]\n",
        "            print(f\"\\nTesting recommendations for article {test_article_id}:\")\n",
        "            recommendations = make_content_recs(test_article_id, 5, df_processed, tfidf_matrix)\n",
        "            print(f\"Content-based recommendations: {recommendations}\")\n",
        "\n",
        "            if len(popular_common_articles) > 1:\n",
        "                test_article_id2 = popular_common_articles[1]\n",
        "                print(f\"\\nTesting recommendations for article {test_article_id2}:\")\n",
        "                recommendations2 = make_content_recs(test_article_id2, 5, df_processed, tfidf_matrix)\n",
        "                print(f\"Content-based recommendations: {recommendations2}\")\n",
        "        else:\n",
        "            # Use any common article for testing\n",
        "            test_article_id = list(common_articles)[0]\n",
        "            print(f\"\\nTesting recommendations for article {test_article_id}:\")\n",
        "            recommendations = make_content_recs(test_article_id, 5, df_processed, tfidf_matrix)\n",
        "            print(f\"Content-based recommendations: {recommendations}\")\n",
        "    else:\n",
        "        # Use any article from the processed data for testing\n",
        "        test_article_id = df_processed['article_id'].iloc[0]\n",
        "        print(f\"\\nTesting recommendations for article {test_article_id}:\")\n",
        "        recommendations = make_content_recs(test_article_id, 5, df_processed, tfidf_matrix)\n",
        "        print(f\"Content-based recommendations: {recommendations}\")\n",
        "\n",
        "# Test content-based recommendations\n",
        "test_content_based_recommendations(df_articles, df_interactions, df_processed, tfidf_matrix)"
      ],
      "metadata": {
        "colab": {
          "base_uri": "https://localhost:8080/"
        },
        "id": "HSdbhyp3-uYR",
        "outputId": "478e6d41-658c-4c73-c704-785e2e4ac973"
      },
      "execution_count": 23,
      "outputs": [
        {
          "output_type": "stream",
          "name": "stdout",
          "text": [
            "Testing Content-Based Recommendation Functions\n",
            "==================================================\n",
            "\n",
            "Found 437 articles in both datasets\n",
            "\n",
            "Testing recommendations for article 43.0:\n",
            "Content-based recommendations: [164, 1004, 113, 336, 237]\n",
            "\n",
            "Testing recommendations for article 151.0:\n",
            "Content-based recommendations: [906, 528, 610, 13, 111]\n"
          ]
        }
      ]
    },
    {
      "cell_type": "markdown",
      "source": [
        "## Part V: Matrix Factorization\n",
        "\n",
        "### Introduction and Rationale\n",
        "\n",
        "Matrix factorization is a powerful technique that decomposes the user-item interaction\n",
        "matrix into lower-dimensional matrices that capture latent factors. This approach\n",
        "can discover hidden patterns in user preferences and provide high-quality recommendations.\n",
        "\n",
        "**Why Matrix Factorization?**\n",
        "1. **Latent Factors**: Discovers hidden patterns in user preferences\n",
        "2. **Dimensionality Reduction**: Reduces computational complexity\n",
        "3. **Scalability**: Efficient for large datasets\n",
        "4. **Quality**: Often provides superior recommendation quality\n",
        "5. **Flexibility**: Can incorporate additional features and constraints\n",
        "\n",
        "**How SVD Works:**\n",
        "1. Decompose user-item matrix into U, Σ, and V^T matrices\n",
        "2. U represents user preferences in latent space\n",
        "3. Σ contains singular values (importance of each factor)\n",
        "4. V^T represents item characteristics in latent space\n",
        "5. Use reduced dimensions to find similar items\n",
        "\n",
        "**Advantages:**\n",
        "- Handles sparsity well\n",
        "- Captures implicit feedback\n",
        "- Computationally efficient\n",
        "- Provides interpretable factors"
      ],
      "metadata": {
        "id": "DW9BqHi4-1Wu"
      }
    },
    {
      "cell_type": "markdown",
      "source": [
        "### Singular Value Decomposition (SVD)\n",
        "\n",
        "SVD decomposes our user-item matrix into three matrices that capture the\n",
        "underlying structure of user preferences and item characteristics."
      ],
      "metadata": {
        "id": "FIqieNJv-3k6"
      }
    },
    {
      "cell_type": "code",
      "source": [
        "def perform_svd(user_item_matrix, n_components=None):\n",
        "    \"\"\"\n",
        "    Perform SVD on the user-item matrix.\n",
        "\n",
        "    Args:\n",
        "        user_item_matrix (csr_matrix): User-item interaction matrix\n",
        "        n_components (int): Number of components for SVD (if None, will use all)\n",
        "\n",
        "    Returns:\n",
        "        tuple: (U, Sigma, Vt, svd_model)\n",
        "            - U: User features matrix\n",
        "            - Sigma: Singular values\n",
        "            - Vt: Article features matrix (transposed)\n",
        "            - svd_model: Fitted SVD model\n",
        "    \"\"\"\n",
        "    print(\"Performing SVD decomposition...\")\n",
        "\n",
        "    if n_components is None:\n",
        "        n_components = min(user_item_matrix.shape) - 1\n",
        "\n",
        "    # Perform SVD\n",
        "    svd_model = TruncatedSVD(n_components=n_components, random_state=42)\n",
        "    U = svd_model.fit_transform(user_item_matrix)\n",
        "    Sigma = svd_model.singular_values_\n",
        "    Vt = svd_model.components_\n",
        "\n",
        "    print(f\"SVD completed with {n_components} components\")\n",
        "    print(f\"U shape: {U.shape}\")\n",
        "    print(f\"Sigma shape: {Sigma.shape}\")\n",
        "    print(f\"Vt shape: {Vt.shape}\")\n",
        "\n",
        "    return U, Sigma, Vt, svd_model\n",
        "\n",
        "# Perform SVD\n",
        "U, Sigma, Vt, svd_model = perform_svd(user_item_matrix)"
      ],
      "metadata": {
        "colab": {
          "base_uri": "https://localhost:8080/"
        },
        "id": "WkZVXzgR-5bh",
        "outputId": "d348c64c-dc5a-41da-8871-24c05d0360ac"
      },
      "execution_count": 24,
      "outputs": [
        {
          "output_type": "stream",
          "name": "stdout",
          "text": [
            "Performing SVD decomposition...\n",
            "SVD completed with 713 components\n",
            "U shape: (5148, 713)\n",
            "Sigma shape: (713,)\n",
            "Vt shape: (713, 714)\n"
          ]
        }
      ]
    },
    {
      "cell_type": "markdown",
      "source": [
        "### Selecting Optimal Number of Components\n",
        "\n",
        "Choosing the right number of latent features is crucial for balancing\n",
        "model complexity and performance. We'll analyze explained variance to\n",
        "make an informed decision."
      ],
      "metadata": {
        "id": "bg3g5Byg-7Se"
      }
    },
    {
      "cell_type": "code",
      "source": [
        "def analyze_explained_variance(svd_model, user_item_matrix):\n",
        "    \"\"\"\n",
        "    Analyze the explained variance to help select optimal number of latent features.\n",
        "\n",
        "    Args:\n",
        "        svd_model (TruncatedSVD): Fitted SVD model\n",
        "        user_item_matrix (csr_matrix): Original user-item matrix\n",
        "\n",
        "    Returns:\n",
        "        dict: Analysis results including explained variance ratios\n",
        "    \"\"\"\n",
        "    print(\"Analyzing explained variance...\")\n",
        "\n",
        "    # Get explained variance ratios\n",
        "    explained_variance_ratio = svd_model.explained_variance_ratio_\n",
        "    cumulative_variance_ratio = np.cumsum(explained_variance_ratio)\n",
        "\n",
        "    # Find number of components for different variance thresholds\n",
        "    n_components_90 = np.argmax(cumulative_variance_ratio >= 0.90) + 1\n",
        "    n_components_95 = np.argmax(cumulative_variance_ratio >= 0.95) + 1\n",
        "    n_components_99 = np.argmax(cumulative_variance_ratio >= 0.99) + 1\n",
        "\n",
        "    analysis = {\n",
        "        'explained_variance_ratio': explained_variance_ratio,\n",
        "        'cumulative_variance_ratio': cumulative_variance_ratio,\n",
        "        'n_components_90': n_components_90,\n",
        "        'n_components_95': n_components_95,\n",
        "        'n_components_99': n_components_99,\n",
        "        'total_variance_explained': cumulative_variance_ratio[-1]\n",
        "    }\n",
        "\n",
        "    print(f\"Components for 90% variance: {n_components_90}\")\n",
        "    print(f\"Components for 95% variance: {n_components_95}\")\n",
        "    print(f\"Components for 99% variance: {n_components_99}\")\n",
        "    print(f\"Total variance explained: {cumulative_variance_ratio[-1]:.4f}\")\n",
        "\n",
        "    return analysis\n",
        "\n",
        "def select_optimal_components(analysis, threshold=0.95):\n",
        "    \"\"\"\n",
        "    Select optimal number of components based on explained variance threshold.\n",
        "\n",
        "    Args:\n",
        "        analysis (dict): Analysis results from analyze_explained_variance\n",
        "        threshold (float): Variance threshold (default 0.95 for 95%)\n",
        "\n",
        "    Returns:\n",
        "        int: Optimal number of components\n",
        "    \"\"\"\n",
        "    cumulative_variance_ratio = analysis['cumulative_variance_ratio']\n",
        "    optimal_components = np.argmax(cumulative_variance_ratio >= threshold) + 1\n",
        "\n",
        "    print(f\"Selected {optimal_components} components for {threshold*100}% variance threshold\")\n",
        "    print(f\"Actual variance explained: {cumulative_variance_ratio[optimal_components-1]:.4f}\")\n",
        "\n",
        "    return optimal_components\n",
        "\n",
        "# Analyze explained variance\n",
        "analysis = analyze_explained_variance(svd_model, user_item_matrix)\n",
        "optimal_components = select_optimal_components(analysis, threshold=0.95)"
      ],
      "metadata": {
        "colab": {
          "base_uri": "https://localhost:8080/"
        },
        "id": "mBE0SvR_-9p9",
        "outputId": "a3ebc9c8-121d-4b6a-92c7-c73fa51d402f"
      },
      "execution_count": 25,
      "outputs": [
        {
          "output_type": "stream",
          "name": "stdout",
          "text": [
            "Analyzing explained variance...\n",
            "Components for 90% variance: 166\n",
            "Components for 95% variance: 249\n",
            "Components for 99% variance: 427\n",
            "Total variance explained: 1.0000\n",
            "Selected 249 components for 95.0% variance threshold\n",
            "Actual variance explained: 0.9500\n"
          ]
        }
      ]
    },
    {
      "cell_type": "markdown",
      "source": [
        "### Creating Article-Article Recommendations\n",
        "\n",
        "Using the SVD decomposition, we can create article-article similarity matrices\n",
        "that capture latent relationships between articles."
      ],
      "metadata": {
        "id": "JKhLoCDl-_iw"
      }
    },
    {
      "cell_type": "code",
      "source": [
        "def create_article_article_matrix(Vt, n_components=None):\n",
        "    \"\"\"\n",
        "    Create article-article similarity matrix using the Vt matrix from SVD.\n",
        "\n",
        "    Args:\n",
        "        Vt (array): Article features matrix from SVD (transposed)\n",
        "        n_components (int): Number of components to use (if None, use all)\n",
        "\n",
        "    Returns:\n",
        "        array: Article-article similarity matrix\n",
        "    \"\"\"\n",
        "    print(\"Creating article-article similarity matrix...\")\n",
        "\n",
        "    if n_components is not None:\n",
        "        # Use only the first n_components\n",
        "        Vt_reduced = Vt[:n_components, :]\n",
        "    else:\n",
        "        Vt_reduced = Vt\n",
        "\n",
        "    # Calculate cosine similarity between articles\n",
        "    article_similarity_matrix = cosine_similarity(Vt_reduced.T)\n",
        "\n",
        "    print(f\"Article similarity matrix shape: {article_similarity_matrix.shape}\")\n",
        "\n",
        "    return article_similarity_matrix\n",
        "\n",
        "def find_similar_articles_svd(article_id, article_similarity_matrix, article_idx_map, n=10):\n",
        "    \"\"\"\n",
        "    Find articles similar to a given article using the SVD similarity matrix.\n",
        "\n",
        "    Args:\n",
        "        article_id (int): Article ID to find similar articles for\n",
        "        article_similarity_matrix (array): Article-article similarity matrix\n",
        "        article_idx_map (dict): Mapping from article IDs to matrix indices\n",
        "        n (int): Number of similar articles to return\n",
        "\n",
        "    Returns:\n",
        "        list: List of similar article IDs\n",
        "    \"\"\"\n",
        "    if article_id not in article_idx_map:\n",
        "        print(f\"Article {article_id} not found in the dataset\")\n",
        "        return []\n",
        "\n",
        "    # Get article index\n",
        "    article_idx = article_idx_map[article_id]\n",
        "\n",
        "    # Get similarities for this article\n",
        "    similarities = article_similarity_matrix[article_idx]\n",
        "\n",
        "    # Get indices of most similar articles (excluding the article itself)\n",
        "    similar_indices = np.argsort(similarities)[::-1][1:n+1]\n",
        "\n",
        "    # Map back to article IDs\n",
        "    reverse_article_map = {idx: aid for aid, idx in article_idx_map.items()}\n",
        "    similar_articles = [reverse_article_map[idx] for idx in similar_indices]\n",
        "\n",
        "    return similar_articles\n",
        "\n",
        "def make_article_recommendations_svd(article_id, m, article_similarity_matrix, article_idx_map):\n",
        "    \"\"\"\n",
        "    Make article recommendations using SVD-based similarity.\n",
        "\n",
        "    Args:\n",
        "        article_id (int): Article ID to make recommendations for\n",
        "        m (int): Number of recommendations to return\n",
        "        article_similarity_matrix (array): Article-article similarity matrix\n",
        "        article_idx_map (dict): Mapping from article IDs to matrix indices\n",
        "\n",
        "    Returns:\n",
        "        list: List of recommended article IDs\n",
        "    \"\"\"\n",
        "    return find_similar_articles_svd(article_id, article_similarity_matrix, article_idx_map, n=m)\n",
        "\n",
        "# Create article-article similarity matrix\n",
        "article_similarity_matrix = create_article_article_matrix(Vt, n_components=optimal_components)"
      ],
      "metadata": {
        "colab": {
          "base_uri": "https://localhost:8080/"
        },
        "id": "l2fsKhda_CVN",
        "outputId": "e21fb270-6496-4ee2-b91e-f410d6160078"
      },
      "execution_count": 26,
      "outputs": [
        {
          "output_type": "stream",
          "name": "stdout",
          "text": [
            "Creating article-article similarity matrix...\n",
            "Article similarity matrix shape: (714, 714)\n"
          ]
        }
      ]
    },
    {
      "cell_type": "markdown",
      "source": [
        "### Testing Matrix Factorization Recommendations\n",
        "\n",
        "Let's test our SVD-based recommendation system to see how well it identifies\n",
        "similar articles using latent factors."
      ],
      "metadata": {
        "id": "YTYN-pX6_EH5"
      }
    },
    {
      "cell_type": "code",
      "source": [
        "def test_matrix_factorization(df_interactions, article_similarity_matrix, article_idx_map):\n",
        "    \"\"\"\n",
        "    Test the matrix factorization functions with sample data.\n",
        "\n",
        "    Args:\n",
        "        df_interactions (DataFrame): User-item interactions data\n",
        "        article_similarity_matrix (array): Article-article similarity matrix\n",
        "        article_idx_map (dict): Mapping from article IDs to matrix indices\n",
        "    \"\"\"\n",
        "    print(\"Testing Matrix Factorization Functions\")\n",
        "    print(\"=\" * 50)\n",
        "\n",
        "    # Test recommendations for popular articles\n",
        "    popular_articles = df_interactions.groupby('article_id').size().sort_values(ascending=False)\n",
        "\n",
        "    # Test with articles that exist in the matrix\n",
        "    test_articles = [aid for aid in popular_articles.index if aid in article_idx_map][:3]\n",
        "\n",
        "    for article_id in test_articles:\n",
        "        print(f\"\\nTesting recommendations for article {article_id}:\")\n",
        "        recommendations = make_article_recommendations_svd(article_id, 5, article_similarity_matrix, article_idx_map)\n",
        "        print(f\"SVD-based recommendations: {recommendations}\")\n",
        "\n",
        "# Test matrix factorization\n",
        "test_matrix_factorization(df_interactions, article_similarity_matrix, article_idx_map)"
      ],
      "metadata": {
        "colab": {
          "base_uri": "https://localhost:8080/"
        },
        "id": "LRnElQvG_Gr5",
        "outputId": "e6ada89d-4986-41fb-c1e8-9397d78e83df"
      },
      "execution_count": 27,
      "outputs": [
        {
          "output_type": "stream",
          "name": "stdout",
          "text": [
            "Testing Matrix Factorization Functions\n",
            "==================================================\n",
            "\n",
            "Testing recommendations for article 1429.0:\n",
            "SVD-based recommendations: [np.float64(715.0), np.float64(474.0), np.float64(62.0), np.float64(1308.0), np.float64(720.0)]\n",
            "\n",
            "Testing recommendations for article 1330.0:\n",
            "SVD-based recommendations: [np.float64(1334.0), np.float64(395.0), np.float64(399.0), np.float64(1161.0), np.float64(1254.0)]\n",
            "\n",
            "Testing recommendations for article 1431.0:\n",
            "SVD-based recommendations: [np.float64(1221.0), np.float64(1141.0), np.float64(395.0), np.float64(968.0), np.float64(1334.0)]\n"
          ]
        }
      ]
    },
    {
      "cell_type": "markdown",
      "source": [
        "## Results Discussion and Conclusion\n",
        "\n",
        "### Summary of Recommendation Approaches\n",
        "\n",
        "We have successfully implemented four different recommendation approaches:\n",
        "\n",
        "1. **Rank-Based Recommendations**: Simple popularity-based approach\n",
        "2. **User-User Collaborative Filtering**: Personalized recommendations based on similar users\n",
        "3. **Content-Based Recommendations**: Recommendations based on article content similarity\n",
        "4. **Matrix Factorization (SVD)**: Latent factor-based recommendations\n",
        "\n",
        "### Key Findings\n",
        "\n",
        "**Data Characteristics:**\n",
        "- 45,993 interactions between 5,148 users and 714 articles\n",
        "- 99.08% sparsity in user-item matrix\n",
        "- Strong popularity bias (Gini coefficient indicates high inequality)\n",
        "\n",
        "**Recommendation Quality:**\n",
        "- Rank-based: Good for new users, captures popular content\n",
        "- Collaborative filtering: Personalized but limited by data sparsity\n",
        "- Content-based: Works well for content discovery\n",
        "- Matrix factorization: High-quality recommendations using latent factors\n",
        "\n",
        "### Evaluation Methods\n",
        "\n",
        "To test recommendation quality in practice, we could implement:\n",
        "\n",
        "1. **A/B Testing**: Compare different approaches with real users\n",
        "2. **Cross-Validation**: Use historical data to predict future interactions\n",
        "3. **Diversity Metrics**: Measure recommendation diversity and novelty\n",
        "4. **Coverage Analysis**: Ensure recommendations cover the full article catalog\n",
        "5. **User Satisfaction Surveys**: Collect explicit feedback on recommendations\n",
        "\n",
        "### Future Improvements\n",
        "\n",
        "1. **Hybrid Approaches**: Combine multiple methods for better performance\n",
        "2. **Deep Learning**: Use neural networks for more complex pattern recognition\n",
        "3. **Real-time Updates**: Implement streaming recommendations\n",
        "4. **Context Awareness**: Include temporal and contextual factors\n",
        "5. **Explainability**: Provide explanations for recommendations\n",
        "\n",
        "### Conclusion\n",
        "\n",
        "This recommendation system demonstrates multiple approaches to solving the\n",
        "recommendation problem, each with its own strengths and use cases. The\n",
        "combination of these methods provides a robust foundation for enhancing\n",
        "user experience on the IBM Watson Studio platform."
      ],
      "metadata": {
        "id": "3i_cuP8a_Kgw"
      }
    }
  ]
}